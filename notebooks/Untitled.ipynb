{
 "cells": [
  {
   "cell_type": "code",
   "execution_count": 5,
   "id": "580a1e60",
   "metadata": {
    "ExecuteTime": {
     "end_time": "2022-02-20T09:37:30.993258Z",
     "start_time": "2022-02-20T09:37:30.948733Z"
    }
   },
   "outputs": [
    {
     "data": {
      "text/plain": [
       "PosixPath('/home/bxnxne/code/vacarme/python/notebooks')"
      ]
     },
     "execution_count": 5,
     "metadata": {},
     "output_type": "execute_result"
    }
   ],
   "source": [
    "from pathlib import Path\n",
    "WORKDIR = Path().resolve()\n",
    "WORKDIR"
   ]
  },
  {
   "cell_type": "code",
   "execution_count": 6,
   "id": "de18a2fb",
   "metadata": {
    "ExecuteTime": {
     "end_time": "2022-02-20T09:38:01.808499Z",
     "start_time": "2022-02-20T09:38:01.792752Z"
    }
   },
   "outputs": [],
   "source": [
    "foo = ['a', 'b', 'c']"
   ]
  },
  {
   "cell_type": "code",
   "execution_count": 9,
   "id": "527a99cc",
   "metadata": {
    "ExecuteTime": {
     "end_time": "2022-02-20T09:38:36.578277Z",
     "start_time": "2022-02-20T09:38:36.554426Z"
    }
   },
   "outputs": [],
   "source": [
    "def func(a,b,c):\n",
    "    print(a)\n",
    "    print(b)\n",
    "    print(c)"
   ]
  },
  {
   "cell_type": "code",
   "execution_count": 11,
   "id": "f882a50a",
   "metadata": {
    "ExecuteTime": {
     "end_time": "2022-02-20T09:38:50.268619Z",
     "start_time": "2022-02-20T09:38:50.249993Z"
    }
   },
   "outputs": [
    {
     "name": "stdout",
     "output_type": "stream",
     "text": [
      "a\n",
      "b\n",
      "c\n"
     ]
    }
   ],
   "source": [
    "func(*foo)"
   ]
  },
  {
   "cell_type": "code",
   "execution_count": 23,
   "id": "d9b1f240",
   "metadata": {
    "ExecuteTime": {
     "end_time": "2022-02-20T09:53:47.778044Z",
     "start_time": "2022-02-20T09:53:47.754310Z"
    }
   },
   "outputs": [
    {
     "data": {
      "text/plain": [
       "1645350827.7629747"
      ]
     },
     "execution_count": 23,
     "metadata": {},
     "output_type": "execute_result"
    }
   ],
   "source": [
    "import time\n",
    "time.time()"
   ]
  },
  {
   "cell_type": "code",
   "execution_count": 20,
   "id": "906781c0",
   "metadata": {
    "ExecuteTime": {
     "end_time": "2022-02-20T09:40:19.080754Z",
     "start_time": "2022-02-20T09:40:19.015100Z"
    }
   },
   "outputs": [
    {
     "ename": "ValueError",
     "evalue": "not enough values to unpack (expected 3, got 1)",
     "output_type": "error",
     "traceback": [
      "\u001b[0;31m---------------------------------------------------------------------------\u001b[0m",
      "\u001b[0;31mValueError\u001b[0m                                Traceback (most recent call last)",
      "Input \u001b[0;32mIn [20]\u001b[0m, in \u001b[0;36m<module>\u001b[0;34m\u001b[0m\n\u001b[0;32m----> 1\u001b[0m \u001b[43mfunc2\u001b[49m\u001b[43m(\u001b[49m\u001b[43mfoo\u001b[49m\u001b[43m)\u001b[49m\n",
      "Input \u001b[0;32mIn [19]\u001b[0m, in \u001b[0;36mfunc2\u001b[0;34m(*args)\u001b[0m\n\u001b[1;32m      1\u001b[0m \u001b[38;5;28;01mdef\u001b[39;00m \u001b[38;5;21mfunc2\u001b[39m(\u001b[38;5;241m*\u001b[39margs):\n\u001b[0;32m----> 2\u001b[0m     a,b,c \u001b[38;5;241m=\u001b[39m args\n\u001b[1;32m      3\u001b[0m     \u001b[38;5;28mprint\u001b[39m(a)\n\u001b[1;32m      4\u001b[0m     \u001b[38;5;28mprint\u001b[39m(b)\n",
      "\u001b[0;31mValueError\u001b[0m: not enough values to unpack (expected 3, got 1)"
     ]
    }
   ],
   "source": [
    "func2(foo)"
   ]
  },
  {
   "cell_type": "code",
   "execution_count": null,
   "id": "c75c5935",
   "metadata": {},
   "outputs": [],
   "source": []
  }
 ],
 "metadata": {
  "kernelspec": {
   "display_name": "Python 3 (ipykernel)",
   "language": "python",
   "name": "python3"
  },
  "language_info": {
   "codemirror_mode": {
    "name": "ipython",
    "version": 3
   },
   "file_extension": ".py",
   "mimetype": "text/x-python",
   "name": "python",
   "nbconvert_exporter": "python",
   "pygments_lexer": "ipython3",
   "version": "3.10.2"
  }
 },
 "nbformat": 4,
 "nbformat_minor": 5
}
