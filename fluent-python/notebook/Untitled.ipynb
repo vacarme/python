{
 "cells": [
  {
   "cell_type": "markdown",
   "id": "2cc9b0d4",
   "metadata": {},
   "source": [
    "# FrenchDeck"
   ]
  },
  {
   "cell_type": "code",
   "execution_count": 1,
   "id": "859dd1ef",
   "metadata": {
    "ExecuteTime": {
     "end_time": "2022-02-25T13:44:52.586346Z",
     "start_time": "2022-02-25T13:44:52.561206Z"
    }
   },
   "outputs": [],
   "source": [
    "import collections\n",
    "\n",
    "Card = collections.namedtuple('Card', ['rank', 'suit'])\n",
    "\n",
    "class FrenchDeck:\n",
    "    ranks = [str(n) for n in range(2, 11)] + list('JQKA')\n",
    "    suits = 'spades diamonds clubs hearts'.split()\n",
    "\n",
    "    def __init__(self):\n",
    "        self._cards = [Card(rank, suit) for suit in self.suits\n",
    "                                        for rank in self.ranks]\n",
    "\n",
    "    def __len__(self):\n",
    "        return len(self._cards)\n",
    "\n",
    "    def __getitem__(self, position):\n",
    "        return self._cards[position]"
   ]
  },
  {
   "cell_type": "code",
   "execution_count": 2,
   "id": "132e88b5",
   "metadata": {
    "ExecuteTime": {
     "end_time": "2022-02-25T13:44:52.729384Z",
     "start_time": "2022-02-25T13:44:52.719916Z"
    }
   },
   "outputs": [],
   "source": [
    "beer_card = Card('7', 'diamonds')"
   ]
  },
  {
   "cell_type": "code",
   "execution_count": 3,
   "id": "6aa44120",
   "metadata": {
    "ExecuteTime": {
     "end_time": "2022-02-25T13:44:52.867150Z",
     "start_time": "2022-02-25T13:44:52.842546Z"
    }
   },
   "outputs": [
    {
     "data": {
      "text/plain": [
       "Card(rank='7', suit='diamonds')"
      ]
     },
     "execution_count": 3,
     "metadata": {},
     "output_type": "execute_result"
    }
   ],
   "source": [
    "beer_card"
   ]
  },
  {
   "cell_type": "code",
   "execution_count": 4,
   "id": "33db8047",
   "metadata": {
    "ExecuteTime": {
     "end_time": "2022-02-25T13:44:52.978088Z",
     "start_time": "2022-02-25T13:44:52.974303Z"
    }
   },
   "outputs": [],
   "source": [
    "deck = FrenchDeck()"
   ]
  },
  {
   "cell_type": "code",
   "execution_count": 5,
   "id": "71e529cc",
   "metadata": {
    "ExecuteTime": {
     "end_time": "2022-02-25T13:44:53.134328Z",
     "start_time": "2022-02-25T13:44:53.118844Z"
    }
   },
   "outputs": [
    {
     "data": {
      "text/plain": [
       "52"
      ]
     },
     "execution_count": 5,
     "metadata": {},
     "output_type": "execute_result"
    }
   ],
   "source": [
    "len(deck)"
   ]
  },
  {
   "cell_type": "code",
   "execution_count": 6,
   "id": "33fc8cfc",
   "metadata": {
    "ExecuteTime": {
     "end_time": "2022-02-25T13:44:53.271623Z",
     "start_time": "2022-02-25T13:44:53.263103Z"
    }
   },
   "outputs": [
    {
     "data": {
      "text/plain": [
       "Card(rank='2', suit='spades')"
      ]
     },
     "execution_count": 6,
     "metadata": {},
     "output_type": "execute_result"
    }
   ],
   "source": [
    "deck[0]"
   ]
  },
  {
   "cell_type": "code",
   "execution_count": 7,
   "id": "e024c7bb",
   "metadata": {
    "ExecuteTime": {
     "end_time": "2022-02-25T13:44:53.435997Z",
     "start_time": "2022-02-25T13:44:53.425394Z"
    }
   },
   "outputs": [],
   "source": [
    "from random import choice"
   ]
  },
  {
   "cell_type": "code",
   "execution_count": 8,
   "id": "40627be6",
   "metadata": {
    "ExecuteTime": {
     "end_time": "2022-02-25T13:44:53.567320Z",
     "start_time": "2022-02-25T13:44:53.561148Z"
    }
   },
   "outputs": [
    {
     "data": {
      "text/plain": [
       "Card(rank='10', suit='clubs')"
      ]
     },
     "execution_count": 8,
     "metadata": {},
     "output_type": "execute_result"
    }
   ],
   "source": [
    "choice(deck)"
   ]
  },
  {
   "cell_type": "code",
   "execution_count": 9,
   "id": "dca90af3",
   "metadata": {
    "ExecuteTime": {
     "end_time": "2022-02-25T13:44:54.707260Z",
     "start_time": "2022-02-25T13:44:54.697833Z"
    }
   },
   "outputs": [
    {
     "name": "stdout",
     "output_type": "stream",
     "text": [
      "2\n",
      "3\n",
      "4\n",
      "5\n",
      "6\n"
     ]
    }
   ],
   "source": [
    "for card in deck[:5]:\n",
    "    print(card.rank)\n"
   ]
  },
  {
   "cell_type": "markdown",
   "id": "31924eb0",
   "metadata": {},
   "source": [
    "# Vector"
   ]
  },
  {
   "cell_type": "code",
   "execution_count": 55,
   "id": "cf1558bc",
   "metadata": {
    "ExecuteTime": {
     "end_time": "2022-02-25T15:51:56.000640Z",
     "start_time": "2022-02-25T15:51:55.948279Z"
    }
   },
   "outputs": [],
   "source": [
    "import math\n",
    "\n",
    "\n",
    "class Vector:\n",
    "    def __init__(self, x, y) -> None:\n",
    "        self.x = x\n",
    "        self.y = y\n",
    "\n",
    "    def __repr__(self) -> str:\n",
    "        return f'Vector({self.x!r}, {self.y!r})'\n",
    "\n",
    "    def __add__(self, other):\n",
    "        return Vector(self.x + other.x, self.y + other.y)\n",
    "\n",
    "    def __abs__(self):\n",
    "        return math.hypot(self.x, self.y)\n",
    "\n",
    "    def __bool__(self):\n",
    "        return bool(self.x or self.y)\n",
    "    def __mul__(self, scalar):\n",
    "        return Vector(self.x * scalar, self.y * scalar)"
   ]
  },
  {
   "cell_type": "code",
   "execution_count": 56,
   "id": "b192d0f6",
   "metadata": {
    "ExecuteTime": {
     "end_time": "2022-02-25T15:51:57.506624Z",
     "start_time": "2022-02-25T15:51:57.497468Z"
    }
   },
   "outputs": [],
   "source": [
    "u = Vector('1','2')"
   ]
  },
  {
   "cell_type": "code",
   "execution_count": 52,
   "id": "1a83f571",
   "metadata": {
    "ExecuteTime": {
     "end_time": "2022-02-25T15:49:47.029784Z",
     "start_time": "2022-02-25T15:49:47.003747Z"
    }
   },
   "outputs": [
    {
     "data": {
      "text/plain": [
       "Vector(1, '2')"
      ]
     },
     "execution_count": 52,
     "metadata": {},
     "output_type": "execute_result"
    }
   ],
   "source": [
    "u"
   ]
  },
  {
   "cell_type": "code",
   "execution_count": 14,
   "id": "12541d5c",
   "metadata": {
    "ExecuteTime": {
     "end_time": "2022-02-25T13:45:32.519176Z",
     "start_time": "2022-02-25T13:45:32.512135Z"
    }
   },
   "outputs": [],
   "source": [
    "a = 'moons'"
   ]
  },
  {
   "cell_type": "code",
   "execution_count": 15,
   "id": "98a1f0c0",
   "metadata": {
    "ExecuteTime": {
     "end_time": "2022-02-25T13:45:51.506981Z",
     "start_time": "2022-02-25T13:45:51.491938Z"
    }
   },
   "outputs": [
    {
     "data": {
      "text/plain": [
       "\"alex 'moons'\""
      ]
     },
     "execution_count": 15,
     "metadata": {},
     "output_type": "execute_result"
    }
   ],
   "source": [
    "f'alex {a!r}'"
   ]
  },
  {
   "cell_type": "code",
   "execution_count": 1,
   "id": "bd0b1a72",
   "metadata": {
    "ExecuteTime": {
     "end_time": "2022-02-26T16:03:35.770032Z",
     "start_time": "2022-02-26T16:03:35.716686Z"
    }
   },
   "outputs": [],
   "source": [
    "lax_coordinates = (33.9425, -118.408056)\n",
    "city, year, pop, chg, area = ('Tokyo', 2003, 32_450, 0.66, 8014)\n",
    "traveler_ids = [('USA', '31195855'), ('BRA', 'CE342567'),('ESP', 'XDA205856')]"
   ]
  },
  {
   "cell_type": "code",
   "execution_count": 2,
   "id": "0434371a",
   "metadata": {
    "ExecuteTime": {
     "end_time": "2022-02-26T16:04:06.352736Z",
     "start_time": "2022-02-26T16:04:06.340719Z"
    }
   },
   "outputs": [
    {
     "name": "stdout",
     "output_type": "stream",
     "text": [
      "BRA/CE342567\n",
      "ESP/XDA205856\n",
      "USA/31195855\n"
     ]
    }
   ],
   "source": [
    "for passport in sorted(traveler_ids):\n",
    "    print('%s/%s' % passport)"
   ]
  },
  {
   "cell_type": "code",
   "execution_count": 2,
   "id": "2a76975e",
   "metadata": {
    "ExecuteTime": {
     "end_time": "2022-02-28T10:18:11.302846Z",
     "start_time": "2022-02-28T10:18:10.194503Z"
    }
   },
   "outputs": [],
   "source": [
    "from array import array\n",
    "from random import random\n",
    "floats = array('d',(random() for i in range(10**7)))"
   ]
  },
  {
   "cell_type": "code",
   "execution_count": 3,
   "id": "988361ae",
   "metadata": {
    "ExecuteTime": {
     "end_time": "2022-02-28T10:18:17.479117Z",
     "start_time": "2022-02-28T10:18:17.445105Z"
    }
   },
   "outputs": [
    {
     "data": {
      "text/plain": [
       "0.5241808777343787"
      ]
     },
     "execution_count": 3,
     "metadata": {},
     "output_type": "execute_result"
    }
   ],
   "source": [
    "floats[-1]"
   ]
  },
  {
   "cell_type": "code",
   "execution_count": 4,
   "id": "b0a4ec5a",
   "metadata": {
    "ExecuteTime": {
     "end_time": "2022-02-28T10:19:38.241830Z",
     "start_time": "2022-02-28T10:19:38.235129Z"
    }
   },
   "outputs": [],
   "source": [
    "fp = open('floats.bin', 'wb')"
   ]
  },
  {
   "cell_type": "code",
   "execution_count": 5,
   "id": "554f79c4",
   "metadata": {
    "ExecuteTime": {
     "end_time": "2022-02-28T10:19:59.224585Z",
     "start_time": "2022-02-28T10:19:59.151991Z"
    }
   },
   "outputs": [],
   "source": [
    "floats.tofile(fp)\n",
    "fp.close()"
   ]
  },
  {
   "cell_type": "code",
   "execution_count": 10,
   "id": "11a94752",
   "metadata": {
    "ExecuteTime": {
     "end_time": "2022-03-04T10:25:47.338761Z",
     "start_time": "2022-03-04T10:25:47.319997Z"
    }
   },
   "outputs": [],
   "source": [
    "from itertools import permutations, product"
   ]
  },
  {
   "cell_type": "code",
   "execution_count": 3,
   "id": "64cd172b",
   "metadata": {
    "ExecuteTime": {
     "end_time": "2022-03-04T10:22:48.654945Z",
     "start_time": "2022-03-04T10:22:48.638583Z"
    }
   },
   "outputs": [
    {
     "data": {
      "text/plain": [
       "<itertools.permutations at 0x7f3ecc24f290>"
      ]
     },
     "execution_count": 3,
     "metadata": {},
     "output_type": "execute_result"
    }
   ],
   "source": [
    "permutations('alex')"
   ]
  },
  {
   "cell_type": "code",
   "execution_count": 13,
   "id": "54ce1695",
   "metadata": {
    "ExecuteTime": {
     "end_time": "2022-03-04T10:28:10.583656Z",
     "start_time": "2022-03-04T10:28:10.559490Z"
    }
   },
   "outputs": [
    {
     "data": {
      "text/plain": [
       "{('a', 'a', 'b', 'b'),\n",
       " ('a', 'b', 'a', 'b'),\n",
       " ('a', 'b', 'b', 'a'),\n",
       " ('b', 'a', 'a', 'b'),\n",
       " ('b', 'a', 'b', 'a'),\n",
       " ('b', 'b', 'a', 'a')}"
      ]
     },
     "execution_count": 13,
     "metadata": {},
     "output_type": "execute_result"
    }
   ],
   "source": [
    "set([_ for _ in permutations('aabb')])"
   ]
  },
  {
   "cell_type": "code",
   "execution_count": 11,
   "id": "0d7eda54",
   "metadata": {
    "ExecuteTime": {
     "end_time": "2022-03-04T10:25:53.774163Z",
     "start_time": "2022-03-04T10:25:53.751854Z"
    }
   },
   "outputs": [
    {
     "data": {
      "text/plain": [
       "[('a',), ('a',), ('b',), ('b',)]"
      ]
     },
     "execution_count": 11,
     "metadata": {},
     "output_type": "execute_result"
    }
   ],
   "source": [
    "[_ for _ in product('aabb')]"
   ]
  },
  {
   "cell_type": "code",
   "execution_count": 14,
   "id": "a642d39f",
   "metadata": {
    "ExecuteTime": {
     "end_time": "2022-03-04T10:30:08.017875Z",
     "start_time": "2022-03-04T10:30:07.996184Z"
    }
   },
   "outputs": [
    {
     "data": {
      "text/plain": [
       "'ba'"
      ]
     },
     "execution_count": 14,
     "metadata": {},
     "output_type": "execute_result"
    }
   ],
   "source": [
    "''.join(('b', 'a'))"
   ]
  },
  {
   "cell_type": "code",
   "execution_count": 19,
   "id": "ec65d7fc",
   "metadata": {
    "ExecuteTime": {
     "end_time": "2022-03-04T10:44:53.483422Z",
     "start_time": "2022-03-04T10:44:53.463869Z"
    }
   },
   "outputs": [],
   "source": [
    "arr = [-3,-2,-1,2,10,15,16,18,19,20]"
   ]
  },
  {
   "cell_type": "code",
   "execution_count": 24,
   "id": "d869bb3d",
   "metadata": {
    "ExecuteTime": {
     "end_time": "2022-03-04T11:01:35.689049Z",
     "start_time": "2022-03-04T11:01:35.669615Z"
    }
   },
   "outputs": [
    {
     "data": {
      "text/plain": [
       "False"
      ]
     },
     "execution_count": 24,
     "metadata": {},
     "output_type": "execute_result"
    }
   ],
   "source": [
    "def range_checker(arr):\n",
    "    return arr == list(range(arr[0],arr[-1]+1))\n",
    "range_checker([1,3])"
   ]
  },
  {
   "cell_type": "code",
   "execution_count": 32,
   "id": "73bdbd54",
   "metadata": {
    "ExecuteTime": {
     "end_time": "2022-03-04T11:03:03.169920Z",
     "start_time": "2022-03-04T11:03:03.140709Z"
    }
   },
   "outputs": [
    {
     "data": {
      "text/plain": [
       "True"
      ]
     },
     "execution_count": 32,
     "metadata": {},
     "output_type": "execute_result"
    }
   ],
   "source": [
    "def is_range(arr):\n",
    "    return arr == list(range(arr[0],arr[-1]+1))\n",
    "is_range([1,2,3])"
   ]
  },
  {
   "cell_type": "code",
   "execution_count": 27,
   "id": "41dc4b05",
   "metadata": {
    "ExecuteTime": {
     "end_time": "2022-03-04T11:02:13.003336Z",
     "start_time": "2022-03-04T11:02:12.978881Z"
    }
   },
   "outputs": [
    {
     "data": {
      "text/plain": [
       "<list_iterator at 0x7f3ecc25f040>"
      ]
     },
     "execution_count": 27,
     "metadata": {},
     "output_type": "execute_result"
    }
   ],
   "source": [
    "i = 0\n",
    "for i in range(len(arr)):\n",
    "    j = 0\n",
    "    while is_range(arr[i:j+1]):\n",
    "        j += 1"
   ]
  },
  {
   "cell_type": "code",
   "execution_count": 12,
   "id": "2bf38b49",
   "metadata": {
    "ExecuteTime": {
     "end_time": "2022-03-04T17:55:44.927832Z",
     "start_time": "2022-03-04T17:55:44.897727Z"
    }
   },
   "outputs": [
    {
     "data": {
      "text/plain": [
       "(140649743385008, 140649743385008)"
      ]
     },
     "execution_count": 12,
     "metadata": {},
     "output_type": "execute_result"
    }
   ],
   "source": [
    "a = 7\n",
    "b = a\n",
    "id(a), id(b)"
   ]
  },
  {
   "cell_type": "code",
   "execution_count": 2,
   "id": "0fff37eb",
   "metadata": {
    "ExecuteTime": {
     "end_time": "2022-03-04T17:50:37.799075Z",
     "start_time": "2022-03-04T17:50:37.765400Z"
    }
   },
   "outputs": [
    {
     "data": {
      "text/plain": [
       "True"
      ]
     },
     "execution_count": 2,
     "metadata": {},
     "output_type": "execute_result"
    }
   ],
   "source": [
    "a == b"
   ]
  },
  {
   "cell_type": "code",
   "execution_count": 8,
   "id": "62ad53ba",
   "metadata": {
    "ExecuteTime": {
     "end_time": "2022-03-04T17:51:11.384590Z",
     "start_time": "2022-03-04T17:51:11.361592Z"
    }
   },
   "outputs": [],
   "source": [
    "c = 7"
   ]
  },
  {
   "cell_type": "code",
   "execution_count": 11,
   "id": "b006f33a",
   "metadata": {
    "ExecuteTime": {
     "end_time": "2022-03-04T17:51:25.005835Z",
     "start_time": "2022-03-04T17:51:24.974730Z"
    }
   },
   "outputs": [
    {
     "data": {
      "text/plain": [
       "True"
      ]
     },
     "execution_count": 11,
     "metadata": {},
     "output_type": "execute_result"
    }
   ],
   "source": [
    "id(c) == id(a)"
   ]
  },
  {
   "cell_type": "code",
   "execution_count": 13,
   "id": "34e04d71",
   "metadata": {
    "ExecuteTime": {
     "end_time": "2022-03-04T17:55:50.641325Z",
     "start_time": "2022-03-04T17:55:50.633941Z"
    }
   },
   "outputs": [],
   "source": [
    "a = a -3"
   ]
  },
  {
   "cell_type": "code",
   "execution_count": 14,
   "id": "197ed888",
   "metadata": {
    "ExecuteTime": {
     "end_time": "2022-03-04T17:55:53.787698Z",
     "start_time": "2022-03-04T17:55:53.765177Z"
    }
   },
   "outputs": [
    {
     "data": {
      "text/plain": [
       "140649743384912"
      ]
     },
     "execution_count": 14,
     "metadata": {},
     "output_type": "execute_result"
    }
   ],
   "source": [
    "id(a)"
   ]
  },
  {
   "cell_type": "code",
   "execution_count": 15,
   "id": "cea52f2f",
   "metadata": {
    "ExecuteTime": {
     "end_time": "2022-03-04T17:56:00.648435Z",
     "start_time": "2022-03-04T17:56:00.627341Z"
    }
   },
   "outputs": [
    {
     "data": {
      "text/plain": [
       "140649743384912"
      ]
     },
     "execution_count": 15,
     "metadata": {},
     "output_type": "execute_result"
    }
   ],
   "source": [
    "id(4)"
   ]
  },
  {
   "cell_type": "code",
   "execution_count": 21,
   "id": "7c05eb9f",
   "metadata": {
    "ExecuteTime": {
     "end_time": "2022-03-04T18:16:18.836042Z",
     "start_time": "2022-03-04T18:16:18.815661Z"
    }
   },
   "outputs": [],
   "source": [
    "vowels = ('a' 'e' 'i' 'o')"
   ]
  },
  {
   "cell_type": "code",
   "execution_count": 22,
   "id": "31d65bb4",
   "metadata": {
    "ExecuteTime": {
     "end_time": "2022-03-04T18:16:22.921975Z",
     "start_time": "2022-03-04T18:16:22.898137Z"
    }
   },
   "outputs": [
    {
     "data": {
      "text/plain": [
       "'aeio'"
      ]
     },
     "execution_count": 22,
     "metadata": {},
     "output_type": "execute_result"
    }
   ],
   "source": [
    "vowels"
   ]
  },
  {
   "cell_type": "code",
   "execution_count": 2,
   "id": "d821f740",
   "metadata": {
    "ExecuteTime": {
     "end_time": "2022-03-08T09:32:14.310330Z",
     "start_time": "2022-03-08T09:32:14.292769Z"
    }
   },
   "outputs": [
    {
     "data": {
      "text/plain": [
       "{'l': 1, 'e': 2, 'r': 1, 't': 2, 's': 1}"
      ]
     },
     "execution_count": 2,
     "metadata": {},
     "output_type": "execute_result"
    }
   ],
   "source": [
    "word = 'letters'\n",
    "letter_counts = {letter: word.count(letter) for letter in set(word)}\n",
    "letter_counts"
   ]
  },
  {
   "cell_type": "code",
   "execution_count": 11,
   "id": "38a36733",
   "metadata": {
    "ExecuteTime": {
     "end_time": "2022-03-08T13:46:16.701812Z",
     "start_time": "2022-03-08T13:46:16.689508Z"
    }
   },
   "outputs": [],
   "source": [
    "def wrapper(f):\n",
    "    return f()\n",
    "def hello():\n",
    "    print(42)\n",
    "def add_args(a,b):\n",
    "    return a + b"
   ]
  },
  {
   "cell_type": "code",
   "execution_count": 10,
   "id": "bb170daf",
   "metadata": {
    "ExecuteTime": {
     "end_time": "2022-03-08T13:45:20.799792Z",
     "start_time": "2022-03-08T13:45:20.781826Z"
    },
    "scrolled": true
   },
   "outputs": [
    {
     "name": "stdout",
     "output_type": "stream",
     "text": [
      "42\n"
     ]
    }
   ],
   "source": [
    ">>> def knights2(saying):\n",
    "...     def inner2():\n",
    "...         return \"We are the knights who say: '%s'\" % saying\n",
    "...     return inner2\n",
    "..."
   ]
  },
  {
   "cell_type": "code",
   "execution_count": 39,
   "id": "c44a1e88",
   "metadata": {
    "ExecuteTime": {
     "end_time": "2022-03-08T14:13:42.689424Z",
     "start_time": "2022-03-08T14:13:42.679677Z"
    }
   },
   "outputs": [],
   "source": [
    "a = (pair for pair in zip(['a', 'b'], ['1', '2']))"
   ]
  },
  {
   "cell_type": "code",
   "execution_count": 40,
   "id": "bb43dc7e",
   "metadata": {
    "ExecuteTime": {
     "end_time": "2022-03-08T14:14:17.815700Z",
     "start_time": "2022-03-08T14:14:17.799652Z"
    }
   },
   "outputs": [
    {
     "name": "stdout",
     "output_type": "stream",
     "text": [
      "<generator object <genexpr> at 0x7f07863dadc0>\n",
      "<generator object <genexpr> at 0x7f07863dadc0>\n"
     ]
    }
   ],
   "source": [
    "for pair in a:\n",
    "    print(a)"
   ]
  },
  {
   "cell_type": "code",
   "execution_count": 35,
   "id": "bb173b87",
   "metadata": {
    "ExecuteTime": {
     "end_time": "2022-03-08T14:13:13.886650Z",
     "start_time": "2022-03-08T14:13:13.865656Z"
    }
   },
   "outputs": [
    {
     "data": {
      "text/plain": [
       "[('a', '1'), ('b', '2')]"
      ]
     },
     "execution_count": 35,
     "metadata": {},
     "output_type": "execute_result"
    }
   ],
   "source": []
  },
  {
   "cell_type": "code",
   "execution_count": 33,
   "id": "c7727771",
   "metadata": {
    "ExecuteTime": {
     "end_time": "2022-03-08T14:04:30.962705Z",
     "start_time": "2022-03-08T14:04:30.946652Z"
    }
   },
   "outputs": [
    {
     "data": {
      "text/plain": [
       "[0, 2, 4, 6, 8, 10, 12, 14]"
      ]
     },
     "execution_count": 33,
     "metadata": {},
     "output_type": "execute_result"
    }
   ],
   "source": [
    "list(my_range2(0,15,2))"
   ]
  },
  {
   "cell_type": "code",
   "execution_count": 28,
   "id": "566a02b8",
   "metadata": {
    "ExecuteTime": {
     "end_time": "2022-03-08T13:51:28.842762Z",
     "start_time": "2022-03-08T13:51:28.833666Z"
    }
   },
   "outputs": [],
   "source": [
    "b = multi(4)"
   ]
  },
  {
   "cell_type": "code",
   "execution_count": 29,
   "id": "a97a2030",
   "metadata": {
    "ExecuteTime": {
     "end_time": "2022-03-08T13:51:29.793047Z",
     "start_time": "2022-03-08T13:51:29.776312Z"
    }
   },
   "outputs": [
    {
     "data": {
      "text/plain": [
       "[4, 8, 12, 16, 20, 24, 28, 32, 36, 40]"
      ]
     },
     "execution_count": 29,
     "metadata": {},
     "output_type": "execute_result"
    }
   ],
   "source": [
    "b()"
   ]
  },
  {
   "cell_type": "markdown",
   "id": "0594b244",
   "metadata": {},
   "source": [
    "+ pain et oeufs au plat\n",
    "+ brocolis stir fried ou carotte soja\n",
    "+ gateau utopie"
   ]
  },
  {
   "cell_type": "code",
   "execution_count": null,
   "id": "4875a87d",
   "metadata": {},
   "outputs": [],
   "source": []
  }
 ],
 "metadata": {
  "kernelspec": {
   "display_name": "Python 3 (ipykernel)",
   "language": "python",
   "name": "python3"
  },
  "language_info": {
   "codemirror_mode": {
    "name": "ipython",
    "version": 3
   },
   "file_extension": ".py",
   "mimetype": "text/x-python",
   "name": "python",
   "nbconvert_exporter": "python",
   "pygments_lexer": "ipython3",
   "version": "3.10.2"
  }
 },
 "nbformat": 4,
 "nbformat_minor": 5
}
